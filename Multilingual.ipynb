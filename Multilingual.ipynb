{
  "nbformat": 4,
  "nbformat_minor": 0,
  "metadata": {
    "colab": {
      "name": "Multilingual.ipynb",
      "provenance": [],
      "collapsed_sections": []
    },
    "kernelspec": {
      "name": "python3",
      "display_name": "Python 3"
    },
    "language_info": {
      "name": "python"
    }
  },
  "cells": [
    {
      "cell_type": "code",
      "metadata": {
        "id": "65C5ZZv7bhhJ"
      },
      "source": [
        ""
      ],
      "execution_count": null,
      "outputs": []
    },
    {
      "cell_type": "code",
      "metadata": {
        "id": "MtHyRHZ2cj3k"
      },
      "source": [
        "from inltk.inltk import tokenize"
      ],
      "execution_count": null,
      "outputs": []
    },
    {
      "cell_type": "code",
      "metadata": {
        "id": "Rd-_91Wrctid"
      },
      "source": [
        "import numpy as np\n",
        "import pandas as pd\n",
        "import matplotlib.pyplot as plt\n",
        "from sklearn.model_selection import train_test_split\n",
        "from sklearn.pipeline import Pipeline\n",
        "from sklearn.naive_bayes import MultinomialNB\n",
        "from sklearn.feature_extraction.text import CountVectorizer\n",
        "from sklearn.metrics import confusion_matrix,classification_report"
      ],
      "execution_count": null,
      "outputs": []
    },
    {
      "cell_type": "code",
      "metadata": {
        "colab": {
          "base_uri": "https://localhost:8080/"
        },
        "id": "dO03JIBmrAEc",
        "outputId": "3f0d4e4d-4303-4f65-b628-594a1e8d015e"
      },
      "source": [
        "from google.colab import drive\n",
        "drive.mount('/content/drive')"
      ],
      "execution_count": null,
      "outputs": [
        {
          "output_type": "stream",
          "name": "stdout",
          "text": [
            "Drive already mounted at /content/drive; to attempt to forcibly remount, call drive.mount(\"/content/drive\", force_remount=True).\n"
          ]
        }
      ]
    },
    {
      "cell_type": "code",
      "metadata": {
        "id": "Q8C53o_2c229"
      },
      "source": [
        "def words(filename):\n",
        "   \n",
        "   txt = \"\"\n",
        "   with open(filename,\"r\",encoding=\"utf-8\") as f:\n",
        "      txt = f.read()\n",
        " \n",
        "   txt = txt.replace(\"?\",\".\")\n",
        "   txt = txt.replace(\"!\",\".\")\n",
        "   txt = txt.replace(\"»\",\"\")\n",
        "   txt = txt.replace(\"«\",\"\")\n",
        "   txt = txt.replace(\":\",\"\")\n",
        "   txt = txt.replace(\";\",\"\")\n",
        "   txt = txt.replace(\"...\",\".\")\n",
        "   txt = txt.replace(\"…\",\".\")\n",
        "   txt = txt.replace(\"\\n\",\".\")\n",
        "   txt = txt.replace(\"  \",\" \")\n",
        "   txt = txt.replace(\"\\\"\",\"\")\n",
        "   txt = txt.replace(\"„\",\"\")\n",
        "   sentences = txt.split()\n",
        "   for i in range(len(sentences)):\n",
        "      sentences[i] = sentences[i].strip()\n",
        "      \n",
        "   sentences = [x for x in sentences if x != \"\"]\n",
        "   return sentences"
      ],
      "execution_count": null,
      "outputs": []
    },
    {
      "cell_type": "code",
      "metadata": {
        "id": "8Ur3_6VddAGi"
      },
      "source": [
        "hindi=words(\"/content/hindi.txt\")"
      ],
      "execution_count": null,
      "outputs": []
    },
    {
      "cell_type": "code",
      "metadata": {
        "id": "JTeCNyieeODW"
      },
      "source": [
        "english=words(\"/content/English.txt\")"
      ],
      "execution_count": null,
      "outputs": []
    },
    {
      "cell_type": "code",
      "metadata": {
        "id": "Px4_xykogVsH"
      },
      "source": [
        "tamil=words(\"/content/tamil.txt\")"
      ],
      "execution_count": null,
      "outputs": []
    },
    {
      "cell_type": "code",
      "metadata": {
        "id": "cS1z2d6Pgd-B"
      },
      "source": [
        "X = np.array(hindi + english + tamil)"
      ],
      "execution_count": null,
      "outputs": []
    },
    {
      "cell_type": "code",
      "metadata": {
        "colab": {
          "base_uri": "https://localhost:8080/"
        },
        "id": "D1heGhZCgtBP",
        "outputId": "fa70b46d-4f1c-40e9-e42b-5898a481e2c2"
      },
      "source": [
        "X"
      ],
      "execution_count": null,
      "outputs": [
        {
          "output_type": "execute_result",
          "data": {
            "text/plain": [
              "array(['तपती', 'दोपहरी', 'में', ..., 'இருப்பதாகப்', 'பேசிக்',\n",
              "       'கொண்டார்கள்'], dtype='<U28')"
            ]
          },
          "metadata": {},
          "execution_count": 9
        }
      ]
    },
    {
      "cell_type": "code",
      "metadata": {
        "id": "1k07qcnQguIR"
      },
      "source": [
        "y = np.array(['hi']*len(hindi) + ['en']*len(english) + ['ta']*len(tamil))"
      ],
      "execution_count": null,
      "outputs": []
    },
    {
      "cell_type": "code",
      "metadata": {
        "colab": {
          "base_uri": "https://localhost:8080/"
        },
        "id": "edRKPLypgyDd",
        "outputId": "aa97dfd5-4bc3-46f7-c869-1bd7d862d1ab"
      },
      "source": [
        "y"
      ],
      "execution_count": null,
      "outputs": [
        {
          "output_type": "execute_result",
          "data": {
            "text/plain": [
              "array(['hi', 'hi', 'hi', ..., 'ta', 'ta', 'ta'], dtype='<U2')"
            ]
          },
          "metadata": {},
          "execution_count": 11
        }
      ]
    },
    {
      "cell_type": "code",
      "metadata": {
        "id": "bUKsZCS6hBVZ"
      },
      "source": [
        "X_train, X_test, y_train, y_test = train_test_split(X, y, test_size=0.33, random_state=42)"
      ],
      "execution_count": null,
      "outputs": []
    },
    {
      "cell_type": "code",
      "metadata": {
        "id": "kyQDeeA1hFp8"
      },
      "source": [
        "cnt = CountVectorizer(analyzer = 'char',ngram_range=(2,2))\n",
        "\n",
        "pipeline = Pipeline([\n",
        "   ('vectorizer',cnt),  \n",
        "   ('model',MultinomialNB())\n",
        "])"
      ],
      "execution_count": null,
      "outputs": []
    },
    {
      "cell_type": "code",
      "metadata": {
        "id": "OD2YHojThkSv"
      },
      "source": [
        "pipeline.fit(X_train,y_train)\n",
        "y_pred = pipeline.predict(X_test)"
      ],
      "execution_count": null,
      "outputs": []
    },
    {
      "cell_type": "code",
      "metadata": {
        "colab": {
          "base_uri": "https://localhost:8080/"
        },
        "id": "2tBtDmxmhnL7",
        "outputId": "a78844fb-dcdb-4e22-9dc0-16eded26e5d9"
      },
      "source": [
        "confusion_matrix(y_test, y_pred)"
      ],
      "execution_count": null,
      "outputs": [
        {
          "output_type": "execute_result",
          "data": {
            "text/plain": [
              "array([[137,   0,   5],\n",
              "       [  2, 101,   8],\n",
              "       [  0,   0, 220]])"
            ]
          },
          "metadata": {},
          "execution_count": 15
        }
      ]
    },
    {
      "cell_type": "code",
      "metadata": {
        "colab": {
          "base_uri": "https://localhost:8080/"
        },
        "id": "y4HPIgvfhqdM",
        "outputId": "c904c0eb-7b00-41a7-c61c-c7e82a6b1d6e"
      },
      "source": [
        "print(classification_report(y_test, y_pred))"
      ],
      "execution_count": null,
      "outputs": [
        {
          "output_type": "stream",
          "name": "stdout",
          "text": [
            "              precision    recall  f1-score   support\n",
            "\n",
            "          en       0.99      0.96      0.98       142\n",
            "          hi       1.00      0.91      0.95       111\n",
            "          ta       0.94      1.00      0.97       220\n",
            "\n",
            "    accuracy                           0.97       473\n",
            "   macro avg       0.98      0.96      0.97       473\n",
            "weighted avg       0.97      0.97      0.97       473\n",
            "\n"
          ]
        }
      ]
    },
    {
      "cell_type": "code",
      "metadata": {
        "id": "GNucfWn_hs_f"
      },
      "source": [
        "mixed=words('/content/Mixed.txt')"
      ],
      "execution_count": null,
      "outputs": []
    },
    {
      "cell_type": "code",
      "metadata": {
        "id": "CMijDHV0iQPg"
      },
      "source": [
        "mX = np.array(mixed)"
      ],
      "execution_count": null,
      "outputs": []
    },
    {
      "cell_type": "code",
      "metadata": {
        "colab": {
          "base_uri": "https://localhost:8080/"
        },
        "id": "kvDr-IDwiTN8",
        "outputId": "e4a2bfb6-6153-4a45-84f9-63a65e3ec104"
      },
      "source": [
        "mX"
      ],
      "execution_count": null,
      "outputs": [
        {
          "output_type": "execute_result",
          "data": {
            "text/plain": [
              "array(['வரவேற்பு', 'to', 'pes', 'महाविद्यालय', 'to', 'study', 'कक्ष',\n",
              "       'பள்ளி'], dtype='<U11')"
            ]
          },
          "metadata": {},
          "execution_count": 19
        }
      ]
    },
    {
      "cell_type": "code",
      "metadata": {
        "id": "sFKjRYHgiUG4"
      },
      "source": [
        "my_pred = pipeline.predict(mX)"
      ],
      "execution_count": null,
      "outputs": []
    },
    {
      "cell_type": "code",
      "metadata": {
        "colab": {
          "base_uri": "https://localhost:8080/"
        },
        "id": "0NDQVyaciXgn",
        "outputId": "1795f746-3d81-4f6c-c6c1-53454e54f7c1"
      },
      "source": [
        "my_pred"
      ],
      "execution_count": null,
      "outputs": [
        {
          "output_type": "execute_result",
          "data": {
            "text/plain": [
              "array(['ta', 'en', 'en', 'hi', 'en', 'en', 'ta', 'ta'], dtype='<U2')"
            ]
          },
          "metadata": {},
          "execution_count": 21
        }
      ]
    },
    {
      "cell_type": "code",
      "metadata": {
        "id": "Fb6uDfuBoe9q"
      },
      "source": [
        ""
      ],
      "execution_count": null,
      "outputs": []
    }
  ]
}